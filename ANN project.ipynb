{
  "nbformat": 4,
  "nbformat_minor": 0,
  "metadata": {
    "colab": {
      "provenance": [],
      "collapsed_sections": [],
      "mount_file_id": "1Rit5mQIBJSZstumjprPlCYajhdqX0OKU",
      "authorship_tag": "ABX9TyOTtEysSGT5J+9j6VOwxqa3",
      "include_colab_link": true
    },
    "kernelspec": {
      "name": "python3",
      "display_name": "Python 3"
    },
    "language_info": {
      "name": "python"
    }
  },
  "cells": [
    {
      "cell_type": "markdown",
      "metadata": {
        "id": "view-in-github",
        "colab_type": "text"
      },
      "source": [
        "<a href=\"https://colab.research.google.com/github/Jins-B/first-repo/blob/main/ANN%20project.ipynb\" target=\"_parent\"><img src=\"https://colab.research.google.com/assets/colab-badge.svg\" alt=\"Open In Colab\"/></a>"
      ]
    },
    {
      "cell_type": "code",
      "source": [
        "import pandas as pd\n",
        "import numpy as np\n",
        "import matplotlib.pyplot as plt\n",
        "from sklearn.metrics import precision_score\n",
        "from sklearn.metrics import recall_score\n",
        "from sklearn.metrics import f1_score\n",
        "from sklearn.metrics import roc_auc_score\n",
        "from sklearn.metrics import accuracy_score\n"
      ],
      "metadata": {
        "id": "fTg1xJR0JeXR"
      },
      "execution_count": 4,
      "outputs": []
    },
    {
      "cell_type": "code",
      "source": [
        "\n"
      ],
      "metadata": {
        "id": "6r9TSzD0cXKq"
      },
      "execution_count": 4,
      "outputs": []
    },
    {
      "cell_type": "code",
      "source": [
        "email = pd.read_csv('drive/MyDrive/spam.csv')\n",
        "email.head(15)"
      ],
      "metadata": {
        "id": "whxRhqz3Jq5-",
        "colab": {
          "base_uri": "https://localhost:8080/",
          "height": 520
        },
        "outputId": "4607b418-0101-46d2-8280-d9c5f2fd7a80"
      },
      "execution_count": 5,
      "outputs": [
        {
          "output_type": "execute_result",
          "data": {
            "text/plain": [
              "   Label                                          EmailText\n",
              "0    ham  Go until jurong point, crazy.. Available only ...\n",
              "1    ham                      Ok lar... Joking wif u oni...\n",
              "2   spam  Free entry in 2 a wkly comp to win FA Cup fina...\n",
              "3    ham  U dun say so early hor... U c already then say...\n",
              "4    ham  Nah I don't think he goes to usf, he lives aro...\n",
              "5   spam  FreeMsg Hey there darling it's been 3 week's n...\n",
              "6    ham  Even my brother is not like to speak with me. ...\n",
              "7    ham  As per your request 'Melle Melle (Oru Minnamin...\n",
              "8   spam  WINNER!! As a valued network customer you have...\n",
              "9   spam  Had your mobile 11 months or more? U R entitle...\n",
              "10   ham  I'm gonna be home soon and i don't want to tal...\n",
              "11  spam  SIX chances to win CASH! From 100 to 20,000 po...\n",
              "12  spam  URGENT! You have won a 1 week FREE membership ...\n",
              "13   ham  I've been searching for the right words to tha...\n",
              "14   ham                I HAVE A DATE ON SUNDAY WITH WILL!!"
            ],
            "text/html": [
              "\n",
              "  <div id=\"df-60def56c-9d5f-4ddc-a611-39c91a9c5838\">\n",
              "    <div class=\"colab-df-container\">\n",
              "      <div>\n",
              "<style scoped>\n",
              "    .dataframe tbody tr th:only-of-type {\n",
              "        vertical-align: middle;\n",
              "    }\n",
              "\n",
              "    .dataframe tbody tr th {\n",
              "        vertical-align: top;\n",
              "    }\n",
              "\n",
              "    .dataframe thead th {\n",
              "        text-align: right;\n",
              "    }\n",
              "</style>\n",
              "<table border=\"1\" class=\"dataframe\">\n",
              "  <thead>\n",
              "    <tr style=\"text-align: right;\">\n",
              "      <th></th>\n",
              "      <th>Label</th>\n",
              "      <th>EmailText</th>\n",
              "    </tr>\n",
              "  </thead>\n",
              "  <tbody>\n",
              "    <tr>\n",
              "      <th>0</th>\n",
              "      <td>ham</td>\n",
              "      <td>Go until jurong point, crazy.. Available only ...</td>\n",
              "    </tr>\n",
              "    <tr>\n",
              "      <th>1</th>\n",
              "      <td>ham</td>\n",
              "      <td>Ok lar... Joking wif u oni...</td>\n",
              "    </tr>\n",
              "    <tr>\n",
              "      <th>2</th>\n",
              "      <td>spam</td>\n",
              "      <td>Free entry in 2 a wkly comp to win FA Cup fina...</td>\n",
              "    </tr>\n",
              "    <tr>\n",
              "      <th>3</th>\n",
              "      <td>ham</td>\n",
              "      <td>U dun say so early hor... U c already then say...</td>\n",
              "    </tr>\n",
              "    <tr>\n",
              "      <th>4</th>\n",
              "      <td>ham</td>\n",
              "      <td>Nah I don't think he goes to usf, he lives aro...</td>\n",
              "    </tr>\n",
              "    <tr>\n",
              "      <th>5</th>\n",
              "      <td>spam</td>\n",
              "      <td>FreeMsg Hey there darling it's been 3 week's n...</td>\n",
              "    </tr>\n",
              "    <tr>\n",
              "      <th>6</th>\n",
              "      <td>ham</td>\n",
              "      <td>Even my brother is not like to speak with me. ...</td>\n",
              "    </tr>\n",
              "    <tr>\n",
              "      <th>7</th>\n",
              "      <td>ham</td>\n",
              "      <td>As per your request 'Melle Melle (Oru Minnamin...</td>\n",
              "    </tr>\n",
              "    <tr>\n",
              "      <th>8</th>\n",
              "      <td>spam</td>\n",
              "      <td>WINNER!! As a valued network customer you have...</td>\n",
              "    </tr>\n",
              "    <tr>\n",
              "      <th>9</th>\n",
              "      <td>spam</td>\n",
              "      <td>Had your mobile 11 months or more? U R entitle...</td>\n",
              "    </tr>\n",
              "    <tr>\n",
              "      <th>10</th>\n",
              "      <td>ham</td>\n",
              "      <td>I'm gonna be home soon and i don't want to tal...</td>\n",
              "    </tr>\n",
              "    <tr>\n",
              "      <th>11</th>\n",
              "      <td>spam</td>\n",
              "      <td>SIX chances to win CASH! From 100 to 20,000 po...</td>\n",
              "    </tr>\n",
              "    <tr>\n",
              "      <th>12</th>\n",
              "      <td>spam</td>\n",
              "      <td>URGENT! You have won a 1 week FREE membership ...</td>\n",
              "    </tr>\n",
              "    <tr>\n",
              "      <th>13</th>\n",
              "      <td>ham</td>\n",
              "      <td>I've been searching for the right words to tha...</td>\n",
              "    </tr>\n",
              "    <tr>\n",
              "      <th>14</th>\n",
              "      <td>ham</td>\n",
              "      <td>I HAVE A DATE ON SUNDAY WITH WILL!!</td>\n",
              "    </tr>\n",
              "  </tbody>\n",
              "</table>\n",
              "</div>\n",
              "      <button class=\"colab-df-convert\" onclick=\"convertToInteractive('df-60def56c-9d5f-4ddc-a611-39c91a9c5838')\"\n",
              "              title=\"Convert this dataframe to an interactive table.\"\n",
              "              style=\"display:none;\">\n",
              "        \n",
              "  <svg xmlns=\"http://www.w3.org/2000/svg\" height=\"24px\"viewBox=\"0 0 24 24\"\n",
              "       width=\"24px\">\n",
              "    <path d=\"M0 0h24v24H0V0z\" fill=\"none\"/>\n",
              "    <path d=\"M18.56 5.44l.94 2.06.94-2.06 2.06-.94-2.06-.94-.94-2.06-.94 2.06-2.06.94zm-11 1L8.5 8.5l.94-2.06 2.06-.94-2.06-.94L8.5 2.5l-.94 2.06-2.06.94zm10 10l.94 2.06.94-2.06 2.06-.94-2.06-.94-.94-2.06-.94 2.06-2.06.94z\"/><path d=\"M17.41 7.96l-1.37-1.37c-.4-.4-.92-.59-1.43-.59-.52 0-1.04.2-1.43.59L10.3 9.45l-7.72 7.72c-.78.78-.78 2.05 0 2.83L4 21.41c.39.39.9.59 1.41.59.51 0 1.02-.2 1.41-.59l7.78-7.78 2.81-2.81c.8-.78.8-2.07 0-2.86zM5.41 20L4 18.59l7.72-7.72 1.47 1.35L5.41 20z\"/>\n",
              "  </svg>\n",
              "      </button>\n",
              "      \n",
              "  <style>\n",
              "    .colab-df-container {\n",
              "      display:flex;\n",
              "      flex-wrap:wrap;\n",
              "      gap: 12px;\n",
              "    }\n",
              "\n",
              "    .colab-df-convert {\n",
              "      background-color: #E8F0FE;\n",
              "      border: none;\n",
              "      border-radius: 50%;\n",
              "      cursor: pointer;\n",
              "      display: none;\n",
              "      fill: #1967D2;\n",
              "      height: 32px;\n",
              "      padding: 0 0 0 0;\n",
              "      width: 32px;\n",
              "    }\n",
              "\n",
              "    .colab-df-convert:hover {\n",
              "      background-color: #E2EBFA;\n",
              "      box-shadow: 0px 1px 2px rgba(60, 64, 67, 0.3), 0px 1px 3px 1px rgba(60, 64, 67, 0.15);\n",
              "      fill: #174EA6;\n",
              "    }\n",
              "\n",
              "    [theme=dark] .colab-df-convert {\n",
              "      background-color: #3B4455;\n",
              "      fill: #D2E3FC;\n",
              "    }\n",
              "\n",
              "    [theme=dark] .colab-df-convert:hover {\n",
              "      background-color: #434B5C;\n",
              "      box-shadow: 0px 1px 3px 1px rgba(0, 0, 0, 0.15);\n",
              "      filter: drop-shadow(0px 1px 2px rgba(0, 0, 0, 0.3));\n",
              "      fill: #FFFFFF;\n",
              "    }\n",
              "  </style>\n",
              "\n",
              "      <script>\n",
              "        const buttonEl =\n",
              "          document.querySelector('#df-60def56c-9d5f-4ddc-a611-39c91a9c5838 button.colab-df-convert');\n",
              "        buttonEl.style.display =\n",
              "          google.colab.kernel.accessAllowed ? 'block' : 'none';\n",
              "\n",
              "        async function convertToInteractive(key) {\n",
              "          const element = document.querySelector('#df-60def56c-9d5f-4ddc-a611-39c91a9c5838');\n",
              "          const dataTable =\n",
              "            await google.colab.kernel.invokeFunction('convertToInteractive',\n",
              "                                                     [key], {});\n",
              "          if (!dataTable) return;\n",
              "\n",
              "          const docLinkHtml = 'Like what you see? Visit the ' +\n",
              "            '<a target=\"_blank\" href=https://colab.research.google.com/notebooks/data_table.ipynb>data table notebook</a>'\n",
              "            + ' to learn more about interactive tables.';\n",
              "          element.innerHTML = '';\n",
              "          dataTable['output_type'] = 'display_data';\n",
              "          await google.colab.output.renderOutput(dataTable, element);\n",
              "          const docLink = document.createElement('div');\n",
              "          docLink.innerHTML = docLinkHtml;\n",
              "          element.appendChild(docLink);\n",
              "        }\n",
              "      </script>\n",
              "    </div>\n",
              "  </div>\n",
              "  "
            ]
          },
          "metadata": {},
          "execution_count": 5
        }
      ]
    },
    {
      "cell_type": "code",
      "source": [
        "len(email)"
      ],
      "metadata": {
        "colab": {
          "base_uri": "https://localhost:8080/"
        },
        "id": "kJvVwTZdJupZ",
        "outputId": "27e66354-54e4-43f4-8072-cbc98b11a04d"
      },
      "execution_count": 6,
      "outputs": [
        {
          "output_type": "execute_result",
          "data": {
            "text/plain": [
              "5572"
            ]
          },
          "metadata": {},
          "execution_count": 6
        }
      ]
    },
    {
      "cell_type": "code",
      "source": [
        "email.isna().sum()"
      ],
      "metadata": {
        "colab": {
          "base_uri": "https://localhost:8080/"
        },
        "id": "8bTMvOp4L5oU",
        "outputId": "73664405-0eda-4e73-a29c-a8862c61bc21"
      },
      "execution_count": 7,
      "outputs": [
        {
          "output_type": "execute_result",
          "data": {
            "text/plain": [
              "Label        0\n",
              "EmailText    0\n",
              "dtype: int64"
            ]
          },
          "metadata": {},
          "execution_count": 7
        }
      ]
    },
    {
      "cell_type": "code",
      "source": [
        "email.shape"
      ],
      "metadata": {
        "colab": {
          "base_uri": "https://localhost:8080/"
        },
        "id": "SBbRxmrkMdmp",
        "outputId": "d72e9158-ef9d-4ab8-bcc4-63ce2183cc30"
      },
      "execution_count": 8,
      "outputs": [
        {
          "output_type": "execute_result",
          "data": {
            "text/plain": [
              "(5572, 2)"
            ]
          },
          "metadata": {},
          "execution_count": 8
        }
      ]
    },
    {
      "cell_type": "code",
      "source": [
        "email.tail()"
      ],
      "metadata": {
        "colab": {
          "base_uri": "https://localhost:8080/",
          "height": 206
        },
        "id": "gqRJJfCGMmvl",
        "outputId": "dbce912c-50ca-4101-cd50-379968d6e7f2"
      },
      "execution_count": 9,
      "outputs": [
        {
          "output_type": "execute_result",
          "data": {
            "text/plain": [
              "     Label                                          EmailText\n",
              "5567  spam  This is the 2nd time we have tried 2 contact u...\n",
              "5568   ham             Will Ã_ b going to esplanade fr home?\n",
              "5569   ham  Pity, * was in mood for that. So...any other s...\n",
              "5570   ham  The guy did some bitching but I acted like i'd...\n",
              "5571   ham                         Rofl. Its true to its name"
            ],
            "text/html": [
              "\n",
              "  <div id=\"df-332d78c8-1591-4934-8708-e17e3e5bd788\">\n",
              "    <div class=\"colab-df-container\">\n",
              "      <div>\n",
              "<style scoped>\n",
              "    .dataframe tbody tr th:only-of-type {\n",
              "        vertical-align: middle;\n",
              "    }\n",
              "\n",
              "    .dataframe tbody tr th {\n",
              "        vertical-align: top;\n",
              "    }\n",
              "\n",
              "    .dataframe thead th {\n",
              "        text-align: right;\n",
              "    }\n",
              "</style>\n",
              "<table border=\"1\" class=\"dataframe\">\n",
              "  <thead>\n",
              "    <tr style=\"text-align: right;\">\n",
              "      <th></th>\n",
              "      <th>Label</th>\n",
              "      <th>EmailText</th>\n",
              "    </tr>\n",
              "  </thead>\n",
              "  <tbody>\n",
              "    <tr>\n",
              "      <th>5567</th>\n",
              "      <td>spam</td>\n",
              "      <td>This is the 2nd time we have tried 2 contact u...</td>\n",
              "    </tr>\n",
              "    <tr>\n",
              "      <th>5568</th>\n",
              "      <td>ham</td>\n",
              "      <td>Will Ã_ b going to esplanade fr home?</td>\n",
              "    </tr>\n",
              "    <tr>\n",
              "      <th>5569</th>\n",
              "      <td>ham</td>\n",
              "      <td>Pity, * was in mood for that. So...any other s...</td>\n",
              "    </tr>\n",
              "    <tr>\n",
              "      <th>5570</th>\n",
              "      <td>ham</td>\n",
              "      <td>The guy did some bitching but I acted like i'd...</td>\n",
              "    </tr>\n",
              "    <tr>\n",
              "      <th>5571</th>\n",
              "      <td>ham</td>\n",
              "      <td>Rofl. Its true to its name</td>\n",
              "    </tr>\n",
              "  </tbody>\n",
              "</table>\n",
              "</div>\n",
              "      <button class=\"colab-df-convert\" onclick=\"convertToInteractive('df-332d78c8-1591-4934-8708-e17e3e5bd788')\"\n",
              "              title=\"Convert this dataframe to an interactive table.\"\n",
              "              style=\"display:none;\">\n",
              "        \n",
              "  <svg xmlns=\"http://www.w3.org/2000/svg\" height=\"24px\"viewBox=\"0 0 24 24\"\n",
              "       width=\"24px\">\n",
              "    <path d=\"M0 0h24v24H0V0z\" fill=\"none\"/>\n",
              "    <path d=\"M18.56 5.44l.94 2.06.94-2.06 2.06-.94-2.06-.94-.94-2.06-.94 2.06-2.06.94zm-11 1L8.5 8.5l.94-2.06 2.06-.94-2.06-.94L8.5 2.5l-.94 2.06-2.06.94zm10 10l.94 2.06.94-2.06 2.06-.94-2.06-.94-.94-2.06-.94 2.06-2.06.94z\"/><path d=\"M17.41 7.96l-1.37-1.37c-.4-.4-.92-.59-1.43-.59-.52 0-1.04.2-1.43.59L10.3 9.45l-7.72 7.72c-.78.78-.78 2.05 0 2.83L4 21.41c.39.39.9.59 1.41.59.51 0 1.02-.2 1.41-.59l7.78-7.78 2.81-2.81c.8-.78.8-2.07 0-2.86zM5.41 20L4 18.59l7.72-7.72 1.47 1.35L5.41 20z\"/>\n",
              "  </svg>\n",
              "      </button>\n",
              "      \n",
              "  <style>\n",
              "    .colab-df-container {\n",
              "      display:flex;\n",
              "      flex-wrap:wrap;\n",
              "      gap: 12px;\n",
              "    }\n",
              "\n",
              "    .colab-df-convert {\n",
              "      background-color: #E8F0FE;\n",
              "      border: none;\n",
              "      border-radius: 50%;\n",
              "      cursor: pointer;\n",
              "      display: none;\n",
              "      fill: #1967D2;\n",
              "      height: 32px;\n",
              "      padding: 0 0 0 0;\n",
              "      width: 32px;\n",
              "    }\n",
              "\n",
              "    .colab-df-convert:hover {\n",
              "      background-color: #E2EBFA;\n",
              "      box-shadow: 0px 1px 2px rgba(60, 64, 67, 0.3), 0px 1px 3px 1px rgba(60, 64, 67, 0.15);\n",
              "      fill: #174EA6;\n",
              "    }\n",
              "\n",
              "    [theme=dark] .colab-df-convert {\n",
              "      background-color: #3B4455;\n",
              "      fill: #D2E3FC;\n",
              "    }\n",
              "\n",
              "    [theme=dark] .colab-df-convert:hover {\n",
              "      background-color: #434B5C;\n",
              "      box-shadow: 0px 1px 3px 1px rgba(0, 0, 0, 0.15);\n",
              "      filter: drop-shadow(0px 1px 2px rgba(0, 0, 0, 0.3));\n",
              "      fill: #FFFFFF;\n",
              "    }\n",
              "  </style>\n",
              "\n",
              "      <script>\n",
              "        const buttonEl =\n",
              "          document.querySelector('#df-332d78c8-1591-4934-8708-e17e3e5bd788 button.colab-df-convert');\n",
              "        buttonEl.style.display =\n",
              "          google.colab.kernel.accessAllowed ? 'block' : 'none';\n",
              "\n",
              "        async function convertToInteractive(key) {\n",
              "          const element = document.querySelector('#df-332d78c8-1591-4934-8708-e17e3e5bd788');\n",
              "          const dataTable =\n",
              "            await google.colab.kernel.invokeFunction('convertToInteractive',\n",
              "                                                     [key], {});\n",
              "          if (!dataTable) return;\n",
              "\n",
              "          const docLinkHtml = 'Like what you see? Visit the ' +\n",
              "            '<a target=\"_blank\" href=https://colab.research.google.com/notebooks/data_table.ipynb>data table notebook</a>'\n",
              "            + ' to learn more about interactive tables.';\n",
              "          element.innerHTML = '';\n",
              "          dataTable['output_type'] = 'display_data';\n",
              "          await google.colab.output.renderOutput(dataTable, element);\n",
              "          const docLink = document.createElement('div');\n",
              "          docLink.innerHTML = docLinkHtml;\n",
              "          element.appendChild(docLink);\n",
              "        }\n",
              "      </script>\n",
              "    </div>\n",
              "  </div>\n",
              "  "
            ]
          },
          "metadata": {},
          "execution_count": 9
        }
      ]
    },
    {
      "cell_type": "markdown",
      "source": [
        "# Preprocessing"
      ],
      "metadata": {
        "id": "iTxoVEeP82n-"
      }
    },
    {
      "cell_type": "code",
      "source": [
        "import re\n",
        "import nltk\n",
        "nltk.download('stopwords')\n",
        "from nltk.corpus import stopwords\n",
        "from nltk.stem.porter import PorterStemmer\n",
        "corpus = []\n",
        "for i in range(0, len(email)):\n",
        "  e_mail = re.sub('[^a-zA-Z]', ' ', email['EmailText'][i])\n",
        "  e_mail = e_mail.split()\n",
        "  ps = PorterStemmer()\n",
        "  e_mail = [ps.stem(word) for word in e_mail if not word in set(stopwords.words('english'))]\n",
        "  e_mail = ' '.join(e_mail)\n",
        "  corpus.append(e_mail)"
      ],
      "metadata": {
        "colab": {
          "base_uri": "https://localhost:8080/"
        },
        "id": "6fid1CIfKH_y",
        "outputId": "0af0561a-cf7c-4d8e-8733-398a0ec4a126"
      },
      "execution_count": 10,
      "outputs": [
        {
          "output_type": "stream",
          "name": "stderr",
          "text": [
            "[nltk_data] Downloading package stopwords to /root/nltk_data...\n",
            "[nltk_data]   Unzipping corpora/stopwords.zip.\n"
          ]
        }
      ]
    },
    {
      "cell_type": "code",
      "source": [
        "corpus[5]"
      ],
      "metadata": {
        "colab": {
          "base_uri": "https://localhost:8080/",
          "height": 35
        },
        "id": "k7saVafmK7fj",
        "outputId": "277802f1-38a6-4816-a98b-ce681207df4f"
      },
      "execution_count": 11,
      "outputs": [
        {
          "output_type": "execute_result",
          "data": {
            "text/plain": [
              "'freemsg hey darl week word back i like fun still tb ok xxx std chg send rcv'"
            ],
            "application/vnd.google.colaboratory.intrinsic+json": {
              "type": "string"
            }
          },
          "metadata": {},
          "execution_count": 11
        }
      ]
    },
    {
      "cell_type": "code",
      "source": [
        "X2 = email['EmailText'].values\n",
        "y2 = email['Label'].values\n",
        "\n",
        "print(X2)\n",
        "print(y2)"
      ],
      "metadata": {
        "id": "yqgcA10WLA_p",
        "colab": {
          "base_uri": "https://localhost:8080/"
        },
        "outputId": "9d1bee9e-504e-430e-a341-2962b41e4547"
      },
      "execution_count": 12,
      "outputs": [
        {
          "output_type": "stream",
          "name": "stdout",
          "text": [
            "['Go until jurong point, crazy.. Available only in bugis n great world la e buffet... Cine there got amore wat...'\n",
            " 'Ok lar... Joking wif u oni...'\n",
            " \"Free entry in 2 a wkly comp to win FA Cup final tkts 21st May 2005. Text FA to 87121 to receive entry question(std txt rate)T&C's apply 08452810075over18's\"\n",
            " ... 'Pity, * was in mood for that. So...any other suggestions?'\n",
            " \"The guy did some bitching but I acted like i'd be interested in buying something else next week and he gave it to us for free\"\n",
            " 'Rofl. Its true to its name']\n",
            "['ham' 'ham' 'spam' ... 'ham' 'ham' 'ham']\n"
          ]
        }
      ]
    },
    {
      "cell_type": "code",
      "source": [
        "len(X2)"
      ],
      "metadata": {
        "colab": {
          "base_uri": "https://localhost:8080/"
        },
        "id": "17WZ0Xc5WifN",
        "outputId": "f3048132-79a3-41dd-f1be-201337c09b79"
      },
      "execution_count": 13,
      "outputs": [
        {
          "output_type": "execute_result",
          "data": {
            "text/plain": [
              "5572"
            ]
          },
          "metadata": {},
          "execution_count": 13
        }
      ]
    },
    {
      "cell_type": "code",
      "source": [
        "len(y2)"
      ],
      "metadata": {
        "colab": {
          "base_uri": "https://localhost:8080/"
        },
        "id": "4kG0xEs5W3y3",
        "outputId": "8a9a6be6-53cf-49c1-d9a4-1e6524073ec8"
      },
      "execution_count": 14,
      "outputs": [
        {
          "output_type": "execute_result",
          "data": {
            "text/plain": [
              "5572"
            ]
          },
          "metadata": {},
          "execution_count": 14
        }
      ]
    },
    {
      "cell_type": "markdown",
      "source": [
        "# Splitting into training and testing data"
      ],
      "metadata": {
        "id": "oqRr8V4Q9GqU"
      }
    },
    {
      "cell_type": "code",
      "source": [
        "from sklearn.model_selection import train_test_split\n",
        "X2_train, X2_test, y2_train, y2_test = train_test_split(X2, y2, test_size = 0.20, random_state = 0)"
      ],
      "metadata": {
        "id": "qzU62mZbWsNv"
      },
      "execution_count": 15,
      "outputs": []
    },
    {
      "cell_type": "markdown",
      "source": [
        "# Vectorization"
      ],
      "metadata": {
        "id": "Iifyy9z49Qi4"
      }
    },
    {
      "cell_type": "code",
      "source": [
        "from sklearn.feature_extraction.text import CountVectorizer\n",
        "cv = CountVectorizer()  \n",
        "X2_train = cv.fit_transform(X2_train)\n",
        "X2_test = cv.transform(X2_test)"
      ],
      "metadata": {
        "id": "bSXHKXql_FRQ"
      },
      "execution_count": 16,
      "outputs": []
    },
    {
      "cell_type": "code",
      "source": [
        "print(X2_train)"
      ],
      "metadata": {
        "colab": {
          "base_uri": "https://localhost:8080/"
        },
        "id": "1oANHDcHAkL3",
        "outputId": "5b84087f-472e-4cc9-9c18-e6f1610e5ca7"
      },
      "execution_count": 17,
      "outputs": [
        {
          "output_type": "stream",
          "name": "stdout",
          "text": [
            "  (0, 4711)\t2\n",
            "  (0, 6732)\t1\n",
            "  (0, 3689)\t2\n",
            "  (0, 3827)\t1\n",
            "  (0, 3422)\t2\n",
            "  (0, 3203)\t1\n",
            "  (0, 906)\t1\n",
            "  (0, 6881)\t1\n",
            "  (0, 2465)\t1\n",
            "  (1, 898)\t1\n",
            "  (1, 3582)\t2\n",
            "  (1, 2605)\t1\n",
            "  (1, 6698)\t1\n",
            "  (1, 4761)\t1\n",
            "  (1, 3123)\t1\n",
            "  (1, 6814)\t1\n",
            "  (1, 7269)\t1\n",
            "  (1, 3839)\t1\n",
            "  (1, 2775)\t1\n",
            "  (1, 4429)\t1\n",
            "  (2, 3689)\t1\n",
            "  (2, 7289)\t1\n",
            "  (2, 7233)\t1\n",
            "  (2, 2973)\t1\n",
            "  (2, 4587)\t1\n",
            "  :\t:\n",
            "  (4454, 5827)\t1\n",
            "  (4454, 3819)\t1\n",
            "  (4454, 2301)\t1\n",
            "  (4454, 4914)\t1\n",
            "  (4454, 7235)\t1\n",
            "  (4455, 7552)\t1\n",
            "  (4455, 7579)\t1\n",
            "  (4455, 3302)\t1\n",
            "  (4455, 4045)\t1\n",
            "  (4455, 2277)\t1\n",
            "  (4455, 4120)\t1\n",
            "  (4455, 5713)\t1\n",
            "  (4455, 4187)\t1\n",
            "  (4455, 6335)\t1\n",
            "  (4456, 6814)\t2\n",
            "  (4456, 7579)\t3\n",
            "  (4456, 3466)\t1\n",
            "  (4456, 6639)\t1\n",
            "  (4456, 814)\t1\n",
            "  (4456, 6581)\t1\n",
            "  (4456, 7457)\t2\n",
            "  (4456, 961)\t1\n",
            "  (4456, 3324)\t1\n",
            "  (4456, 2141)\t1\n",
            "  (4456, 6436)\t1\n"
          ]
        }
      ]
    },
    {
      "cell_type": "code",
      "source": [
        "print(X2_test)"
      ],
      "metadata": {
        "colab": {
          "base_uri": "https://localhost:8080/"
        },
        "id": "mWpkHZmvAyZs",
        "outputId": "78c9db36-e30b-4390-80c9-1e6b7755e74a"
      },
      "execution_count": 18,
      "outputs": [
        {
          "output_type": "stream",
          "name": "stdout",
          "text": [
            "  (0, 842)\t1\n",
            "  (0, 1880)\t1\n",
            "  (0, 3815)\t1\n",
            "  (0, 3962)\t1\n",
            "  (0, 5152)\t1\n",
            "  (0, 6019)\t1\n",
            "  (0, 6814)\t1\n",
            "  (0, 6847)\t1\n",
            "  (0, 7063)\t1\n",
            "  (1, 2733)\t1\n",
            "  (1, 4870)\t1\n",
            "  (1, 6696)\t1\n",
            "  (1, 7261)\t1\n",
            "  (2, 890)\t1\n",
            "  (2, 924)\t1\n",
            "  (2, 983)\t1\n",
            "  (2, 1010)\t1\n",
            "  (2, 1956)\t1\n",
            "  (2, 1996)\t1\n",
            "  (2, 2350)\t2\n",
            "  (2, 2675)\t1\n",
            "  (2, 2775)\t1\n",
            "  (2, 2894)\t1\n",
            "  (2, 3242)\t1\n",
            "  (2, 3357)\t1\n",
            "  :\t:\n",
            "  (1114, 402)\t1\n",
            "  (1114, 890)\t1\n",
            "  (1114, 924)\t1\n",
            "  (1114, 1540)\t1\n",
            "  (1114, 1897)\t1\n",
            "  (1114, 3068)\t1\n",
            "  (1114, 3072)\t1\n",
            "  (1114, 3302)\t1\n",
            "  (1114, 3689)\t2\n",
            "  (1114, 3700)\t1\n",
            "  (1114, 3927)\t1\n",
            "  (1114, 4329)\t1\n",
            "  (1114, 4916)\t1\n",
            "  (1114, 5992)\t1\n",
            "  (1114, 6432)\t1\n",
            "  (1114, 6576)\t2\n",
            "  (1114, 6690)\t1\n",
            "  (1114, 6696)\t2\n",
            "  (1114, 6814)\t3\n",
            "  (1114, 7284)\t1\n",
            "  (1114, 7309)\t1\n",
            "  (1114, 7355)\t1\n",
            "  (1114, 7365)\t2\n",
            "  (1114, 7579)\t1\n",
            "  (1114, 7584)\t1\n"
          ]
        }
      ]
    },
    {
      "cell_type": "markdown",
      "source": [
        "# SVC and SVM\n",
        "\n",
        "---\n",
        "\n"
      ],
      "metadata": {
        "id": "2f2qvf758jTa"
      }
    },
    {
      "cell_type": "code",
      "source": [
        "from sklearn.svm import SVC\n",
        "classifier = SVC(kernel = 'rbf', random_state = 10)\n",
        "classifier.fit(X2_train, y2_train)\n",
        "print(classifier.score(X2_test,y2_test))"
      ],
      "metadata": {
        "colab": {
          "base_uri": "https://localhost:8080/"
        },
        "id": "bDzBluSjM1kP",
        "outputId": "b4125a1e-19c4-4ac0-9895-729e68324645"
      },
      "execution_count": 19,
      "outputs": [
        {
          "output_type": "stream",
          "name": "stdout",
          "text": [
            "0.9766816143497757\n"
          ]
        }
      ]
    },
    {
      "cell_type": "code",
      "source": [
        "y2_SVC_pred = classifier.predict(X2_test)\n",
        "y2_SVC_pred "
      ],
      "metadata": {
        "colab": {
          "base_uri": "https://localhost:8080/"
        },
        "id": "hlgSsobzMbdX",
        "outputId": "69b04956-038c-43f3-a42c-73a049efeb23"
      },
      "execution_count": 20,
      "outputs": [
        {
          "output_type": "execute_result",
          "data": {
            "text/plain": [
              "array(['ham', 'ham', 'ham', ..., 'ham', 'ham', 'ham'], dtype=object)"
            ]
          },
          "metadata": {},
          "execution_count": 20
        }
      ]
    },
    {
      "cell_type": "code",
      "source": [
        "from sklearn.metrics import confusion_matrix\n",
        "SVC_cm = confusion_matrix(y2_test, y2_SVC_pred)\n",
        "print(SVC_cm)"
      ],
      "metadata": {
        "colab": {
          "base_uri": "https://localhost:8080/"
        },
        "id": "mak-6dcKON36",
        "outputId": "e1d296f8-05df-4dc7-b2e5-fb17f6519a13"
      },
      "execution_count": 21,
      "outputs": [
        {
          "output_type": "stream",
          "name": "stdout",
          "text": [
            "[[949   0]\n",
            " [ 26 140]]\n"
          ]
        }
      ]
    },
    {
      "cell_type": "code",
      "source": [],
      "metadata": {
        "id": "7sU9Q9p4sbPE"
      },
      "execution_count": 21,
      "outputs": []
    },
    {
      "cell_type": "code",
      "source": [
        "from sklearn.model_selection import GridSearchCV\n",
        "from sklearn import svm\n",
        "tuned_parameters = {'kernel': ['rbf','linear'], 'gamma': [1e-3, 1e-4],\n",
        "                     'C': [1, 10, 100, 1000]}\n",
        "model = GridSearchCV(svm.SVC(), tuned_parameters)\n",
        "model.fit(X2_train,y2_train)\n",
        "print(model.score(X2_test,y2_test))\n",
        "\n"
      ],
      "metadata": {
        "colab": {
          "base_uri": "https://localhost:8080/"
        },
        "id": "tADx3LSkPGZX",
        "outputId": "ab1138b7-824c-4f2e-ded5-aa66397507e2"
      },
      "execution_count": 22,
      "outputs": [
        {
          "output_type": "stream",
          "name": "stdout",
          "text": [
            "0.979372197309417\n"
          ]
        }
      ]
    },
    {
      "cell_type": "code",
      "source": [
        "y2_SVM_pred = model.predict(X2_test)\n",
        "y2_SVM_pred "
      ],
      "metadata": {
        "colab": {
          "base_uri": "https://localhost:8080/"
        },
        "id": "wzF7oPY8M4xy",
        "outputId": "e674a3d5-755f-476c-d028-65dfedff9118"
      },
      "execution_count": 23,
      "outputs": [
        {
          "output_type": "execute_result",
          "data": {
            "text/plain": [
              "array(['ham', 'ham', 'ham', ..., 'ham', 'ham', 'ham'], dtype=object)"
            ]
          },
          "metadata": {},
          "execution_count": 23
        }
      ]
    },
    {
      "cell_type": "code",
      "source": [
        "from sklearn.metrics import confusion_matrix\n",
        "SVM_cm = confusion_matrix(y2_test, y2_SVM_pred)\n",
        "print(SVM_cm)"
      ],
      "metadata": {
        "colab": {
          "base_uri": "https://localhost:8080/"
        },
        "id": "3d1rMuE-O35r",
        "outputId": "0ca6ca5d-c54f-49c3-a108-a301d4355e3d"
      },
      "execution_count": 24,
      "outputs": [
        {
          "output_type": "stream",
          "name": "stdout",
          "text": [
            "[[946   3]\n",
            " [ 20 146]]\n"
          ]
        }
      ]
    },
    {
      "cell_type": "code",
      "source": [
        "X = cv.fit_transform(corpus).toarray()\n",
        "y = email['Label']"
      ],
      "metadata": {
        "id": "Ze0pe1HmRPC9"
      },
      "execution_count": 25,
      "outputs": []
    },
    {
      "cell_type": "markdown",
      "source": [
        "# Naïve Bayes"
      ],
      "metadata": {
        "id": "pSTqHpnK9Yzn"
      }
    },
    {
      "cell_type": "code",
      "source": [
        "X_train, X_test, y_train, y_test = train_test_split(X, y, test_size = 0.20, random_state = 0)"
      ],
      "metadata": {
        "id": "uvJ0ha6zbZSs"
      },
      "execution_count": 26,
      "outputs": []
    },
    {
      "cell_type": "code",
      "source": [
        "from sklearn.naive_bayes import GaussianNB\n",
        "GN_classifier = GaussianNB()\n",
        "\n",
        "GN_classifier.fit(X_train, y_train)\n",
        "\n",
        "\n"
      ],
      "metadata": {
        "colab": {
          "base_uri": "https://localhost:8080/"
        },
        "id": "HeEazVAQXGFH",
        "outputId": "de69a6fe-a508-4a55-ff39-697aa68c7cb5"
      },
      "execution_count": 27,
      "outputs": [
        {
          "output_type": "execute_result",
          "data": {
            "text/plain": [
              "GaussianNB()"
            ]
          },
          "metadata": {},
          "execution_count": 27
        }
      ]
    },
    {
      "cell_type": "code",
      "source": [
        "GN_score = GN_classifier.score(X_test,y_test)\n",
        "GN_score"
      ],
      "metadata": {
        "colab": {
          "base_uri": "https://localhost:8080/"
        },
        "id": "QuLDXjX3XPB3",
        "outputId": "74ea7326-ae71-4487-d6cb-c03ba5e993c7"
      },
      "execution_count": 28,
      "outputs": [
        {
          "output_type": "execute_result",
          "data": {
            "text/plain": [
              "0.862780269058296"
            ]
          },
          "metadata": {},
          "execution_count": 28
        }
      ]
    },
    {
      "cell_type": "code",
      "source": [
        "y_GN_pred = GN_classifier.predict(X_test)\n",
        "y_GN_pred "
      ],
      "metadata": {
        "colab": {
          "base_uri": "https://localhost:8080/"
        },
        "id": "aD0PKPteK07O",
        "outputId": "e79fbd66-f4e7-47da-a9f5-7ac9809da827"
      },
      "execution_count": 29,
      "outputs": [
        {
          "output_type": "execute_result",
          "data": {
            "text/plain": [
              "array(['ham', 'ham', 'ham', ..., 'ham', 'ham', 'ham'], dtype='<U4')"
            ]
          },
          "metadata": {},
          "execution_count": 29
        }
      ]
    },
    {
      "cell_type": "code",
      "source": [
        "from sklearn.metrics import confusion_matrix\n",
        "GN_cm = confusion_matrix(y_test, y_GN_pred)\n",
        "print(GN_cm)"
      ],
      "metadata": {
        "colab": {
          "base_uri": "https://localhost:8080/"
        },
        "id": "-GztV4gPcQP6",
        "outputId": "022eca4d-83c7-440d-fc6d-7c90977fe98f"
      },
      "execution_count": 30,
      "outputs": [
        {
          "output_type": "stream",
          "name": "stdout",
          "text": [
            "[[821 128]\n",
            " [ 25 141]]\n"
          ]
        }
      ]
    },
    {
      "cell_type": "code",
      "source": [
        "\n",
        "\n",
        "from sklearn.naive_bayes import MultinomialNB\n",
        "MN_classifier = MultinomialNB()\n",
        "MN_classifier.fit(X_train, y_train)"
      ],
      "metadata": {
        "colab": {
          "base_uri": "https://localhost:8080/"
        },
        "id": "bPTJV_p1YAQT",
        "outputId": "581854f7-13a8-434a-b40f-ef31d2968345"
      },
      "execution_count": 31,
      "outputs": [
        {
          "output_type": "execute_result",
          "data": {
            "text/plain": [
              "MultinomialNB()"
            ]
          },
          "metadata": {},
          "execution_count": 31
        }
      ]
    },
    {
      "cell_type": "code",
      "source": [
        "MN_score = MN_classifier.score(X_test,y_test)\n",
        "MN_score"
      ],
      "metadata": {
        "colab": {
          "base_uri": "https://localhost:8080/"
        },
        "id": "74UzGnVEYE2Y",
        "outputId": "5335164c-2293-4fcf-c39b-6d39efd9d76a"
      },
      "execution_count": 32,
      "outputs": [
        {
          "output_type": "execute_result",
          "data": {
            "text/plain": [
              "0.97847533632287"
            ]
          },
          "metadata": {},
          "execution_count": 32
        }
      ]
    },
    {
      "cell_type": "code",
      "source": [
        "y_MN_pred = MN_classifier.predict(X_test)\n",
        "y_MN_pred "
      ],
      "metadata": {
        "colab": {
          "base_uri": "https://localhost:8080/"
        },
        "id": "WWMnBkyBYIeb",
        "outputId": "fb2d3cdb-7c5d-4301-cc69-d78031e841de"
      },
      "execution_count": 33,
      "outputs": [
        {
          "output_type": "execute_result",
          "data": {
            "text/plain": [
              "array(['ham', 'ham', 'ham', ..., 'ham', 'ham', 'ham'], dtype='<U4')"
            ]
          },
          "metadata": {},
          "execution_count": 33
        }
      ]
    },
    {
      "cell_type": "code",
      "source": [
        "MN_cm = confusion_matrix(y_test, y_MN_pred)\n",
        "print(MN_cm)"
      ],
      "metadata": {
        "colab": {
          "base_uri": "https://localhost:8080/"
        },
        "id": "JBPr23IlJFw1",
        "outputId": "f5871048-679f-4d13-95f7-4ca6455f0e9d"
      },
      "execution_count": 34,
      "outputs": [
        {
          "output_type": "stream",
          "name": "stdout",
          "text": [
            "[[932  17]\n",
            " [  7 159]]\n"
          ]
        }
      ]
    },
    {
      "cell_type": "markdown",
      "source": [
        "# Decision tree and Random forest"
      ],
      "metadata": {
        "id": "H48TXkrEZE1t"
      }
    },
    {
      "cell_type": "code",
      "source": [
        "from sklearn.tree import DecisionTreeClassifier \n",
        "\n",
        "model_tree=DecisionTreeClassifier()\n",
        "\n",
        "model_tree.fit(X_train,y_train)\n",
        "\n",
        "y_DT_pred=model_tree.predict(X_test)\n",
        "y_DT_pred"
      ],
      "metadata": {
        "colab": {
          "base_uri": "https://localhost:8080/"
        },
        "id": "V8broEF3ZIdY",
        "outputId": "4a0dd601-83dc-4f50-fcda-e6023d703384"
      },
      "execution_count": 40,
      "outputs": [
        {
          "output_type": "execute_result",
          "data": {
            "text/plain": [
              "array(['ham', 'ham', 'ham', ..., 'ham', 'ham', 'ham'], dtype=object)"
            ]
          },
          "metadata": {},
          "execution_count": 40
        }
      ]
    },
    {
      "cell_type": "code",
      "source": [
        "DT_score = model_tree.score(X_test,y_test)\n",
        "DT_score"
      ],
      "metadata": {
        "colab": {
          "base_uri": "https://localhost:8080/"
        },
        "id": "CJBbFp0gcjwK",
        "outputId": "090341f1-c9ce-4539-af53-e479b87d18c7"
      },
      "execution_count": 39,
      "outputs": [
        {
          "output_type": "execute_result",
          "data": {
            "text/plain": [
              "0.9811659192825112"
            ]
          },
          "metadata": {},
          "execution_count": 39
        }
      ]
    },
    {
      "cell_type": "code",
      "source": [
        "DT_cm = confusion_matrix(y_test, y_DT_pred)\n",
        "print(DT_cm)"
      ],
      "metadata": {
        "colab": {
          "base_uri": "https://localhost:8080/"
        },
        "id": "-RwRiukuc9d5",
        "outputId": "61494b0a-cecd-4afe-e734-96cb86f5dd71"
      },
      "execution_count": 43,
      "outputs": [
        {
          "output_type": "stream",
          "name": "stdout",
          "text": [
            "[[945   4]\n",
            " [ 19 147]]\n"
          ]
        }
      ]
    },
    {
      "cell_type": "code",
      "source": [
        "from sklearn.ensemble import RandomForestClassifier\n",
        "model_rf=RandomForestClassifier(n_estimators=20,criterion='entropy')\n",
        "model_rf.fit(X_train,y_train)\n",
        "\n",
        "y_RF_pred=model_rf.predict(X_test)\n",
        "y_RF_pred\n"
      ],
      "metadata": {
        "colab": {
          "base_uri": "https://localhost:8080/"
        },
        "id": "qDrZls_Wianj",
        "outputId": "875f08c7-8598-4e6a-d2ea-8ff47de60fe7"
      },
      "execution_count": 63,
      "outputs": [
        {
          "output_type": "execute_result",
          "data": {
            "text/plain": [
              "array(['ham', 'ham', 'ham', ..., 'ham', 'ham', 'ham'], dtype=object)"
            ]
          },
          "metadata": {},
          "execution_count": 63
        }
      ]
    },
    {
      "cell_type": "code",
      "source": [
        "RF_score = model_rf.score(X_test,y_test)\n",
        "RF_score"
      ],
      "metadata": {
        "colab": {
          "base_uri": "https://localhost:8080/"
        },
        "id": "8Af-wphNi9xi",
        "outputId": "b260d413-04f9-4ab4-cf1b-d6069f073ce4"
      },
      "execution_count": 64,
      "outputs": [
        {
          "output_type": "execute_result",
          "data": {
            "text/plain": [
              "0.9730941704035875"
            ]
          },
          "metadata": {},
          "execution_count": 64
        }
      ]
    },
    {
      "cell_type": "code",
      "source": [
        "RF_cm = confusion_matrix(y_test, y_RF_pred)\n",
        "print(RF_cm)"
      ],
      "metadata": {
        "colab": {
          "base_uri": "https://localhost:8080/"
        },
        "id": "9xGCHEEGjrjL",
        "outputId": "2ad8b306-7651-4a85-d789-2b8f184d391b"
      },
      "execution_count": 65,
      "outputs": [
        {
          "output_type": "stream",
          "name": "stdout",
          "text": [
            "[[949   0]\n",
            " [ 30 136]]\n"
          ]
        }
      ]
    },
    {
      "cell_type": "markdown",
      "source": [
        "# Confusion matrices"
      ],
      "metadata": {
        "id": "7DJmdZbXdL7F"
      }
    },
    {
      "cell_type": "code",
      "source": [
        "def model_assessment(y_test,predicted_class):\n",
        "    print('accuracy')\n",
        "    print(accuracy_score(y_test,predicted_class))\n",
        "    print('precision')\n",
        "    print(precision_score(y_test,predicted_class,pos_label='spam'))\n",
        "    print('recall')\n",
        "    print(recall_score(y_test,predicted_class,pos_label='spam'))\n",
        "    print('f-Score')\n",
        "    print(f1_score(y_test,predicted_class,pos_label='spam'))\n",
        "    print('AUC')\n",
        "    print(roc_auc_score(np.where(y_test=='spam',1,0),np.where(predicted_class=='spam',1,0)))\n",
        "  \n",
        "\n",
        "\n"
      ],
      "metadata": {
        "id": "87T22P0hseQE"
      },
      "execution_count": 38,
      "outputs": []
    },
    {
      "cell_type": "code",
      "source": [
        "from sklearn.metrics import confusion_matrix\n",
        "from mlxtend.plotting import plot_confusion_matrix\n",
        " \n",
        "fig, ax = plot_confusion_matrix(conf_mat=GN_cm, figsize=(6, 6), cmap=plt.cm.Reds)\n",
        "plt.xlabel('Predictions', fontsize=18)\n",
        "plt.ylabel('Actuals', fontsize=18)\n",
        "plt.title('Confusion Matrix-Gaussian NB', fontsize=18)\n",
        "plt.show()\n",
        "\n",
        "model_assessment(y_test, y_GN_pred)    "
      ],
      "metadata": {
        "colab": {
          "base_uri": "https://localhost:8080/",
          "height": 609
        },
        "id": "pM7aK-Bo6oJ3",
        "outputId": "5cb891c4-80cf-4850-faa2-16bbf0e3e9fd"
      },
      "execution_count": 44,
      "outputs": [
        {
          "output_type": "display_data",
          "data": {
            "text/plain": [
              "<Figure size 432x432 with 1 Axes>"
            ],
            "image/png": "[encoded data removed]"
          },
          "metadata": {
            "needs_background": "light"
          }
        },
        {
          "output_type": "stream",
          "name": "stdout",
          "text": [
            "accuracy\n",
            "0.862780269058296\n",
            "precision\n",
            "0.5241635687732342\n",
            "recall\n",
            "0.8493975903614458\n",
            "f-Score\n",
            "0.6482758620689655\n",
            "AUC\n",
            "0.8572593852755594\n"
          ]
        }
      ]
    },
    {
      "cell_type": "code",
      "source": [
        " fig,bx = plot_confusion_matrix(conf_mat=MN_cm, figsize=(6, 6), cmap=plt.cm.Greens)\n",
        "plt.xlabel('Predictions', fontsize=18)\n",
        "plt.ylabel('Actuals', fontsize=18)\n",
        "plt.title('Confusion Matrix-Multinomial NB', fontsize=18)\n",
        "plt.show()\n",
        "model_assessment(y_test, y_MN_pred) "
      ],
      "metadata": {
        "colab": {
          "base_uri": "https://localhost:8080/",
          "height": 609
        },
        "id": "ZeI7nQTX25u9",
        "outputId": "21a46f11-2d67-46bc-f2b1-1407bd7120a8"
      },
      "execution_count": 45,
      "outputs": [
        {
          "output_type": "display_data",
          "data": {
            "text/plain": [
              "<Figure size 432x432 with 1 Axes>"
            ],
            "image/png": "[encoded data removed]"
          },
          "metadata": {
            "needs_background": "light"
          }
        },
        {
          "output_type": "stream",
          "name": "stdout",
          "text": [
            "accuracy\n",
            "0.97847533632287\n",
            "precision\n",
            "0.9034090909090909\n",
            "recall\n",
            "0.9578313253012049\n",
            "f-Score\n",
            "0.9298245614035089\n",
            "AUC\n",
            "0.9699588660225729\n"
          ]
        }
      ]
    },
    {
      "cell_type": "code",
      "source": [
        " fig,cx = plot_confusion_matrix(conf_mat=SVC_cm, figsize=(6, 6), cmap=plt.cm.Blues)\n",
        "plt.xlabel('Predictions', fontsize=18)\n",
        "plt.ylabel('Actuals', fontsize=18)\n",
        "plt.title('Confusion Matrix-SVC', fontsize=18)\n",
        "plt.show()\n",
        "model_assessment(y2_test, y2_SVC_pred) "
      ],
      "metadata": {
        "colab": {
          "base_uri": "https://localhost:8080/",
          "height": 609
        },
        "id": "hrfkRJurOdeC",
        "outputId": "fb1ad5ec-f7bc-438c-ccaa-83887af80bd9"
      },
      "execution_count": 46,
      "outputs": [
        {
          "output_type": "display_data",
          "data": {
            "text/plain": [
              "<Figure size 432x432 with 1 Axes>"
            ],
            "image/png": "[encoded data removed]"
          },
          "metadata": {
            "needs_background": "light"
          }
        },
        {
          "output_type": "stream",
          "name": "stdout",
          "text": [
            "accuracy\n",
            "0.9766816143497757\n",
            "precision\n",
            "1.0\n",
            "recall\n",
            "0.8433734939759037\n",
            "f-Score\n",
            "0.9150326797385622\n",
            "AUC\n",
            "0.9216867469879518\n"
          ]
        }
      ]
    },
    {
      "cell_type": "code",
      "source": [
        " fig,dx = plot_confusion_matrix(conf_mat=SVM_cm, figsize=(6, 6), cmap=plt.cm.Purples)\n",
        "plt.xlabel('Predictions', fontsize=18)\n",
        "plt.ylabel('Actuals', fontsize=18)\n",
        "plt.title('Confusion Matrix-SVM', fontsize=18)\n",
        "plt.show()\n",
        "model_assessment(y2_test, y2_SVM_pred) "
      ],
      "metadata": {
        "colab": {
          "base_uri": "https://localhost:8080/",
          "height": 609
        },
        "id": "aqavOQaaPa8F",
        "outputId": "2ee074eb-adff-441f-9f53-25ffc62633e1"
      },
      "execution_count": 47,
      "outputs": [
        {
          "output_type": "display_data",
          "data": {
            "text/plain": [
              "<Figure size 432x432 with 1 Axes>"
            ],
            "image/png": "[encoded data removed]"
          },
          "metadata": {
            "needs_background": "light"
          }
        },
        {
          "output_type": "stream",
          "name": "stdout",
          "text": [
            "accuracy\n",
            "0.979372197309417\n",
            "precision\n",
            "0.9798657718120806\n",
            "recall\n",
            "0.8795180722891566\n",
            "f-Score\n",
            "0.926984126984127\n",
            "AUC\n",
            "0.938178424974926\n"
          ]
        }
      ]
    },
    {
      "cell_type": "code",
      "source": [
        "fig,ex = plot_confusion_matrix(conf_mat=DT_cm, figsize=(6, 6), cmap=plt.cm.Greys)\n",
        "plt.xlabel('Predictions', fontsize=18)\n",
        "plt.ylabel('Actuals', fontsize=18)\n",
        "plt.title('Confusion Matrix-Decision Tree', fontsize=18)\n",
        "plt.show()\n",
        "model_assessment(y_test, y_DT_pred) "
      ],
      "metadata": {
        "colab": {
          "base_uri": "https://localhost:8080/",
          "height": 609
        },
        "id": "J0oefw71evSN",
        "outputId": "1f00aa60-1dff-40a0-a5bc-95e8c5ed725c"
      },
      "execution_count": 66,
      "outputs": [
        {
          "output_type": "display_data",
          "data": {
            "text/plain": [
              "<Figure size 432x432 with 1 Axes>"
            ],
            "image/png": "[encoded data removed]"
          },
          "metadata": {
            "needs_background": "light"
          }
        },
        {
          "output_type": "stream",
          "name": "stdout",
          "text": [
            "accuracy\n",
            "0.979372197309417\n",
            "precision\n",
            "0.9735099337748344\n",
            "recall\n",
            "0.8855421686746988\n",
            "f-Score\n",
            "0.9274447949526813\n",
            "AUC\n",
            "0.940663602777813\n"
          ]
        }
      ]
    },
    {
      "cell_type": "code",
      "source": [
        "fig,ex = plot_confusion_matrix(conf_mat=RF_cm, figsize=(6, 6), cmap=plt.cm.Wistia)\n",
        "plt.xlabel('Predictions', fontsize=18)\n",
        "plt.ylabel('Actuals', fontsize=18)\n",
        "plt.title('Confusion Matrix-Random Forest', fontsize=18)\n",
        "plt.show()\n",
        "model_assessment(y_test, y_RF_pred) "
      ],
      "metadata": {
        "colab": {
          "base_uri": "https://localhost:8080/",
          "height": 609
        },
        "id": "gav4S82XkIaO",
        "outputId": "0f52bffa-470c-47d7-f2c8-21481cbf9832"
      },
      "execution_count": 76,
      "outputs": [
        {
          "output_type": "display_data",
          "data": {
            "text/plain": [
              "<Figure size 432x432 with 1 Axes>"
            ],
            "image/png": "[encoded data removed]"
          },
          "metadata": {
            "needs_background": "light"
          }
        },
        {
          "output_type": "stream",
          "name": "stdout",
          "text": [
            "accuracy\n",
            "0.9730941704035875\n",
            "precision\n",
            "1.0\n",
            "recall\n",
            "0.8192771084337349\n",
            "f-Score\n",
            "0.9006622516556291\n",
            "AUC\n",
            "0.9096385542168675\n"
          ]
        }
      ]
    },
    {
      "cell_type": "code",
      "source": [
        "models = pd.DataFrame({\"GNB\": GN_score,\n",
        "                           \"MNB\": MN_score,\n",
        "                       \"SVC\" : classifier.score(X2_test,y2_test),\n",
        "                       \"SVM\" :model.score(X2_test,y2_test),\n",
        "                       \"DT\" : model_tree.score(X_test,y_test),\n",
        "                       \"RF\" : model_rf.score(X_test,y_test)\n",
        "                           },\n",
        "                          index=[0])\n",
        "\n",
        "\n",
        "models.T.plot.bar(title=\"Comparing different models: Accuracy\",\n",
        "                      legend=False)\n",
        "plt.xticks(rotation=0);"
      ],
      "metadata": {
        "colab": {
          "base_uri": "https://localhost:8080/",
          "height": 281
        },
        "id": "c04rOrwcYgs-",
        "outputId": "7bbc6773-68a4-46bc-909e-afd53743d973"
      },
      "execution_count": 79,
      "outputs": [
        {
          "output_type": "display_data",
          "data": {
            "text/plain": [
              "<Figure size 432x288 with 1 Axes>"
            ],
            "image/png": "[encoded data removed]"
          },
          "metadata": {
            "needs_background": "light"
          }
        }
      ]
    },
    {
      "cell_type": "code",
      "source": [
        "models = pd.DataFrame({\"GNB\": precision_score(y_test, y_GN_pred,pos_label='spam'),\n",
        "                           \"MNB\": precision_score(y_test,y_MN_pred,pos_label='spam'),\n",
        "                       \"SVC\" : precision_score(y2_test, y2_SVC_pred,pos_label='spam'),\n",
        "                       \"SVM\" :precision_score(y2_test, y2_SVM_pred,pos_label='spam'),\n",
        "                       \"DT\" : precision_score(y_test, y_DT_pred,pos_label='spam') ,\n",
        "                       \"RF\" : precision_score(y_test, y_RF_pred,pos_label='spam') \n",
        "                           },\n",
        "                          index=[0])\n",
        "\n",
        "\n",
        "models.T.plot.bar(title=\"Comparing different models: Precision\",\n",
        "                      legend=False)\n",
        "plt.xticks(rotation=0);"
      ],
      "metadata": {
        "colab": {
          "base_uri": "https://localhost:8080/",
          "height": 281
        },
        "id": "JMU2Slv83q9d",
        "outputId": "4a2ed82b-eb87-4c49-f07d-02929bfd515a"
      },
      "execution_count": 80,
      "outputs": [
        {
          "output_type": "display_data",
          "data": {
            "text/plain": [
              "<Figure size 432x288 with 1 Axes>"
            ],
            "image/png": "[encoded data removed]"
          },
          "metadata": {
            "needs_background": "light"
          }
        }
      ]
    },
    {
      "cell_type": "code",
      "source": [
        "models = pd.DataFrame({\"GNB\": recall_score(y_test, y_GN_pred,pos_label='spam'),\n",
        "                           \"MNB\": recall_score(y_test,y_MN_pred,pos_label='spam'),\n",
        "                       \"SVC\" : recall_score(y2_test, y2_SVC_pred,pos_label='spam'),\n",
        "                       \"SVM\" :recall_score(y2_test, y2_SVM_pred,pos_label='spam'),\n",
        "                       \"DT\" : recall_score(y_test, y_DT_pred,pos_label='spam') ,\n",
        "                       \"RF\" : precision_score(y_test, y_RF_pred,pos_label='spam') \n",
        "                           },\n",
        "                          index=[0])\n",
        "\n",
        "\n",
        "models.T.plot.bar(title=\"Comparing different models: Recall\",\n",
        "                      legend=False)\n",
        "plt.xticks(rotation=0);"
      ],
      "metadata": {
        "colab": {
          "base_uri": "https://localhost:8080/",
          "height": 281
        },
        "id": "-XJIONKf5XHI",
        "outputId": "c18f0519-4ca4-45aa-f943-b43b025d5533"
      },
      "execution_count": 81,
      "outputs": [
        {
          "output_type": "display_data",
          "data": {
            "text/plain": [
              "<Figure size 432x288 with 1 Axes>"
            ],
            "image/png": "[encoded data removed]"
          },
          "metadata": {
            "needs_background": "light"
          }
        }
      ]
    },
    {
      "cell_type": "code",
      "source": [
        "models = pd.DataFrame({\"GNB\": f1_score(y_test, y_GN_pred,pos_label='spam'),\n",
        "                           \"MNB\": f1_score(y_test,y_MN_pred,pos_label='spam'),\n",
        "                       \"SVC\" : f1_score(y2_test, y2_SVC_pred,pos_label='spam'),\n",
        "                       \"SVM\" :f1_score(y2_test, y2_SVM_pred,pos_label='spam'),\n",
        "                       \"DT\" : f1_score(y_test, y_DT_pred,pos_label='spam') ,\n",
        "                       \"RF\" : precision_score(y_test, y_RF_pred,pos_label='spam') \n",
        "                           },\n",
        "                          index=[0])\n",
        "\n",
        "\n",
        "models.T.plot.bar(title=\"Comparing different models: F Score\",\n",
        "                      legend=False)\n",
        "plt.xticks(rotation=0);"
      ],
      "metadata": {
        "colab": {
          "base_uri": "https://localhost:8080/",
          "height": 281
        },
        "id": "oiAzdE2h5YZT",
        "outputId": "d09a7e6f-2a6b-4a11-8513-f0e20bce4182"
      },
      "execution_count": 82,
      "outputs": [
        {
          "output_type": "display_data",
          "data": {
            "text/plain": [
              "<Figure size 432x288 with 1 Axes>"
            ],
            "image/png": "[encoded data removed]"
          },
          "metadata": {
            "needs_background": "light"
          }
        }
      ]
    },
    {
      "cell_type": "code",
      "source": [
        "models = pd.DataFrame({\"GNB\": roc_auc_score(np.where(y_test=='spam',1,0),np.where(y_GN_pred=='spam',1,0)),\n",
        "                           \"MNB\":roc_auc_score(np.where(y_test=='spam',1,0),np.where(y_MN_pred=='spam',1,0)),\n",
        "                       \"SVC\" :roc_auc_score(np.where(y_test=='spam',1,0),np.where(y2_SVC_pred=='spam',1,0)),\n",
        "                       \"SVM\" :roc_auc_score(np.where(y_test=='spam',1,0),np.where(y2_SVM_pred=='spam',1,0)),\n",
        "                       \"DT\" :roc_auc_score(np.where(y_test=='spam',1,0),np.where(y_DT_pred=='spam',1,0)),\n",
        "                       \"RF\" :roc_auc_score(np.where(y_test=='spam',1,0),np.where(y_RF_pred=='spam',1,0))\n",
        "                           },\n",
        "                          index=[0])\n",
        "\n",
        "\n",
        "models.T.plot.bar(title=\"Comparing different models: AUC\",\n",
        "                      legend=False)\n",
        "plt.xticks(rotation=0);"
      ],
      "metadata": {
        "colab": {
          "base_uri": "https://localhost:8080/",
          "height": 545
        },
        "id": "tov0TH815YvY",
        "outputId": "9fa30014-e98c-4967-f6b2-57194c82ebf1"
      },
      "execution_count": 84,
      "outputs": [
        {
          "output_type": "display_data",
          "data": {
            "text/plain": [
              "<Figure size 432x288 with 1 Axes>"
            ],
            "image/png": "[encoded data removed]"
          },
          "metadata": {
            "needs_background": "light"
          }
        },
        {
          "output_type": "display_data",
          "data": {
            "text/plain": [
              "<Figure size 432x288 with 1 Axes>"
            ],
            "image/png": "[encoded data removed]"
          },
          "metadata": {
            "needs_background": "light"
          }
        }
      ]
    }
  ]
}